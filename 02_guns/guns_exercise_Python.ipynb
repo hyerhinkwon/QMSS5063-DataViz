{
  "cells": [
    {
      "cell_type": "raw",
      "metadata": {},
      "source": [
        "---\n",
        "title: \"Guns and Deaths in America\"\n",
        "author: \"Thomas Brambor\"\n",
        "format:\n",
        "  gfm:\n",
        "    toc: true\n",
        "  html:\n",
        "    toc: true\n",
        "    code-fold: false\n",
        "    theme: cosmo\n",
        "---"
      ],
      "id": "a9a7a6ad"
    },
    {
      "cell_type": "markdown",
      "metadata": {},
      "source": [
        "# Introduction\n",
        "\n",
        "- In preparation for your first homework assignment, I would like you to do an exploration of some data similar to what I will ask you next week for the first graded assignment.\n",
        "- This is not required. Choose to invest as little or as much time as you feel appropriate. But this is the way to learn and apply the things we cover in lecture and the tutorials I asked you to complete.\n",
        "- Advantage is that for this exercise you can share, ask questions freely, and get to know `plotnine` / `altair` / `seaborn` better if you have not already.\n",
        "- I have collected a few data sources that may be helpful to the analysis. Feel free to use them, combine them, or even add other sources if you feel ambitious.\n",
        "\n",
        "**Task:** Explore the relationship between gun ownership, gun laws, and gun-related deaths in America. Try to first *explore the data* and then think about which aspects of the things you learned you want to present to a reader.\n",
        "\n",
        "![](NYTimes_gunsales.png){width=80%}\n",
        "\n",
        "# Data Sources\n",
        "\n",
        "## Setup\n"
      ],
      "id": "1ea09750"
    },
    {
      "cell_type": "code",
      "metadata": {
        "message": false
      },
      "source": [
        "#| warning: false\n",
        "\n",
        "import pandas as pd\n",
        "import numpy as np\n",
        "import seaborn as sns\n",
        "import matplotlib.pyplot as plt\n",
        "from plotnine import *  # For ggplot-style plotting\n",
        "import altair as alt    # For interactive visualizations"
      ],
      "id": "cf06160b",
      "execution_count": null,
      "outputs": []
    },
    {
      "cell_type": "markdown",
      "metadata": {},
      "source": [
        "## Gun Ownership (RAND)\n",
        "\n",
        "RAND has collected state-level data on household firearm ownership in this [study](https://www.rand.org/pubs/tools/TL354.html). \n"
      ],
      "id": "4fd1f0f1"
    },
    {
      "cell_type": "code",
      "metadata": {
        "message": false
      },
      "source": [
        "#| warning: false\n",
        "\n",
        "gun_ownership = pd.read_csv(\"data/gun_ownership.csv\")\n",
        "gun_ownership.head(10)"
      ],
      "id": "042ad773",
      "execution_count": null,
      "outputs": []
    },
    {
      "cell_type": "markdown",
      "metadata": {},
      "source": [
        "The data includes:\n",
        "- HFR: Household firearm ownership rate\n",
        "- HFR_se: Standard error of the household firearm rate\n",
        "- Various survey indicators (BRFSS, GALLUP, GSS, PEW)\n",
        "- Hunting license and background check data\n",
        "\n",
        "## Gun Sales (NY Times)\n"
      ],
      "id": "ec9cfa0b"
    },
    {
      "cell_type": "code",
      "metadata": {
        "message": false
      },
      "source": [
        "#| warning: false\n",
        "\n",
        "gunsales = pd.read_csv(\"data/gun_sales.csv\")\n",
        "gunsales.head(10)"
      ],
      "id": "57f12431",
      "execution_count": null,
      "outputs": []
    },
    {
      "cell_type": "markdown",
      "metadata": {},
      "source": [
        "## Firearm Deaths (Kaiser Family Foundation)\n"
      ],
      "id": "197a1793"
    },
    {
      "cell_type": "code",
      "metadata": {
        "message": false
      },
      "source": [
        "#| warning: false\n",
        "\n",
        "gun_deaths = pd.read_csv(\"data/gun_deaths.csv\")\n",
        "gun_deaths.head(10)"
      ],
      "id": "e5a17383",
      "execution_count": null,
      "outputs": []
    },
    {
      "cell_type": "markdown",
      "metadata": {},
      "source": [
        "## Individual-Level Deaths (FiveThirtyEight)\n"
      ],
      "id": "ec1de3fb"
    },
    {
      "cell_type": "code",
      "metadata": {
        "message": false
      },
      "source": [
        "#| warning: false\n",
        "\n",
        "gun_inddeaths = pd.read_csv(\"data/gun_deaths_individual.csv\")\n",
        "gun_inddeaths.head(10)"
      ],
      "id": "4e7da1d7",
      "execution_count": null,
      "outputs": []
    },
    {
      "cell_type": "markdown",
      "metadata": {},
      "source": [
        "## State Firearm Laws\n"
      ],
      "id": "691c6c07"
    },
    {
      "cell_type": "code",
      "metadata": {
        "message": false
      },
      "source": [
        "#| warning: false\n",
        "\n",
        "gun_laws = pd.read_csv(\"data/gun_laws.csv\")\n",
        "gun_laws.head(10)"
      ],
      "id": "6196684c",
      "execution_count": null,
      "outputs": []
    },
    {
      "cell_type": "markdown",
      "metadata": {},
      "source": [
        "# Analysis Topics\n",
        "\n",
        "Using these data sets, here are several possible questions to explore:\n",
        "\n",
        "- Gun Ownership vs. Firearm Deaths: How does the rate of gun ownership in different states correlate with the number of deaths due to firearms? Does gun ownership correlate with firearm deaths in the U.S.? Does the pattern hold only in the aggregate or also by state? \n",
        "\n",
        "- Trends in Gun-related Deaths: What are the trends in gun-related deaths at the individual level over time? Use the FiveThirtyEight data to explore trends and patterns, possibly breaking down the data by factors like age, gender, or type of incident (e.g., homicide, suicide, accidental).\n",
        "\n",
        "- Impact of Events on Gun Sales: Can significant events (like mass shootings or political changes) be linked to spikes in gun sales? Use the NYTimes gunsales data to visualize changes over time and correlate these with major national or international events.\n",
        "\n",
        "- Effectiveness of Gun Laws: Analyze the impact of different state firearm laws on gun-related deaths and gun sales. This would involve a comparison between the State Firearm Database and the other datasets on gun deaths and gun ownership. Are gun regulations (e.g. child access prevention laws) associated with lower gun death rates? How about suicides (especially by non-adults)?\n",
        "\n",
        "- Demographic Analysis of Gun Deaths: Who are the victims of gun-related deaths? Using the individual-level data from FiveThirtyEight, analyze the demographics of victims, including age, sex, race, and the circumstances of their deaths (suicide, homicide, accidental).\n",
        "\n",
        "- Time Series Analysis of Gun Sales: How have gun sales changed over time across different states? Use time series visualizations to explore trends in gun sales data from the NYTimes dataset.\n",
        "\n",
        "- Comparative Analysis of State Gun Laws: How do state gun laws vary across the U.S., and have there been significant changes in legislation over time? Use the State Firearm Database to create visualizations that track the evolution of gun laws across different states and time periods.\n",
        "\n",
        "# Exercises\n",
        "\n",
        "Choose one or more of the following exercises to explore. For each analysis, consider:\n",
        "- What is the story you want to tell?\n",
        "- Which visualization type best supports your narrative?\n",
        "- How can you make the visualization clear and impactful?\n",
        "\n",
        "## 1. State-Level Analysis\n",
        "\n",
        "Explore the relationship between gun ownership and deaths across states:\n",
        "\n",
        "**Suggested approaches:**  \n",
        "- Compare HFR (household firearm rates) with death rates  \n",
        "- Group states by region or political leaning  \n",
        "- Consider controlling for population or other demographic factors  \n",
        "- Look for outliers and investigate their characteristics  \n",
        "\n",
        "**Key variables to consider:**  \n",
        "- From gun_ownership: HFR, STATE  \n",
        "- From gun_deaths: firearms_death_100k, location  \n",
        "\n",
        "## 2. Time Series Patterns\n",
        "\n",
        "Analyze temporal patterns in gun sales and related events:\n",
        "\n",
        "**Suggested approaches:**  \n",
        "- Identify significant spikes in gun sales  \n",
        "- Compare sales patterns across different states/regions  \n",
        "- Look for seasonal patterns  \n",
        "- Connect trends to major events (elections, mass shootings, policy changes)  \n",
        "\n",
        "**Key variables to consider:**  \n",
        "- From gunsales: month, totals, state  \n",
        "- Consider external data on major events  \n",
        "\n",
        "## 3. Demographic Analysis\n",
        "\n",
        "Investigate who is most affected by gun violence:\n",
        "\n",
        "**Suggested approaches:**  \n",
        "- Break down deaths by age groups, gender, and race  \n",
        "- Compare urban vs rural patterns  \n",
        "- Analyze different types of incidents (suicide, homicide, accident)  \n",
        "- Look for demographic trends over time  \n",
        "\n",
        "**Key variables to consider:**  \n",
        "- From gun_inddeaths: age, sex, race, intent  \n",
        "\n",
        "## 4. Policy Impact Analysis\n",
        "\n",
        "Examine the relationship between gun laws and outcomes:\n",
        "\n",
        "**Suggested approaches:**  \n",
        "- Compare states with different types of gun laws  \n",
        "- Look at changes before/after law implementation  \n",
        "- Consider specific types of restrictions (e.g., background checks, waiting periods)  \n",
        "- Account for neighboring state policies  \n",
        "\n",
        "**Key variables to consider:**  \n",
        "- From gun_laws: Various policy indicators  \n",
        "- Compare with death rates and sales data  \n",
        "\n",
        "## 5. Advanced Integration Project\n",
        "\n",
        "Combine multiple datasets to tell a comprehensive story:\n",
        "\n",
        "**Suggested approaches:**  \n",
        "- Pick a specific state or region to analyze in depth  \n",
        "- Follow changes over time in multiple metrics  \n",
        "\n",
        "**Tips for analysis:**  \n",
        "- Start with exploratory data analysis  \n",
        "- Look for unexpected patterns  \n",
        "- Consider confounding variables  \n",
        "- Document your analytical choices  \n",
        "\n",
        "## Sharing Guidelines\n",
        "\n",
        "When sharing your analysis:\n",
        "1. Clearly state your research question\n",
        "2. Explain your data preparation steps\n",
        "3. Justify your visualization choices\n",
        "4. Document any assumptions made\n",
        "5. Discuss limitations of the analysis\n",
        "6. Suggest areas for further investigation\n",
        "\n",
        "Upload your analysis to the `sandbox` repository in a folder called `Week02_guns`."
      ],
      "id": "80ffbcb5"
    }
  ],
  "metadata": {
    "kernelspec": {
      "display_name": "Python 3",
      "language": "python",
      "name": "python3"
    }
  },
  "nbformat": 4,
  "nbformat_minor": 5
}